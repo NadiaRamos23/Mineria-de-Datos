{
 "cells": [
  {
   "cell_type": "markdown",
   "metadata": {},
   "source": [
    "Frutas"
   ]
  },
  {
   "cell_type": "code",
   "execution_count": null,
   "metadata": {},
   "outputs": [],
   "source": [
    "# Datos del problema\n",
    "P_M = 0.6  # Probabilidad de manzana\n",
    "P_P = 0.4  # Probabilidad de pera\n",
    "P_R_M = 0.7  # Probabilidad de que una manzana sea roja\n",
    "P_R_P = 0.2  # Probabilidad de que una pera sea roja\n",
    "\n",
    "# Cálculo de P(R) (probabilidad de que la fruta sea roja)\n",
    "P_R = (P_R_M * P_M) + (P_R_P * P_P)\n",
    "\n",
    "# Aplicando el teorema de Bayes\n",
    "P_M_R = (P_R_M * P_M) / P_R\n",
    "\n",
    "print(f\"La probabilidad de que una fruta roja sea una manzana es: {P_M_R:.2f}\")"
   ]
  },
  {
   "cell_type": "markdown",
   "metadata": {},
   "source": [
    "Spam"
   ]
  },
  {
   "cell_type": "code",
   "execution_count": null,
   "metadata": {},
   "outputs": [
    {
     "name": "stdout",
     "output_type": "stream",
     "text": [
      "0.97\n"
     ]
    }
   ],
   "source": [
    "P_S = 0.3  #  spam\n",
    "P_N = 0.7  #  no spam\n",
    "\n",
    "P_O_S = 0.9  # \"oferta\" en spam\n",
    "P_A_S = 0.8  # archivo adjunto en spam\n",
    "P_L_S = 0.85 # link sospechoso en spam\n",
    "\n",
    "P_O_N = 0.2  # \"oferta\" en no spam\n",
    "P_A_N = 0.4  # archivo adjunto en no spam\n",
    "P_L_N = 0.1  # link sospechoso en no spam\n",
    "\n",
    "P_OAL_S = P_O_S * P_A_S * P_L_S\n",
    "\n",
    "P_OAL_N = P_O_N * P_A_N * P_L_N\n",
    "\n",
    "P_OAL = (P_OAL_S * P_S) + (P_OAL_N * P_N)\n",
    "\n",
    "P_S_OAL = (P_OAL_S * P_S) / P_OAL\n",
    "\n",
    "print(f\"{P_S_OAL:.2f}\")"
   ]
  }
 ],
 "metadata": {
  "kernelspec": {
   "display_name": "base",
   "language": "python",
   "name": "python3"
  },
  "language_info": {
   "codemirror_mode": {
    "name": "ipython",
    "version": 3
   },
   "file_extension": ".py",
   "mimetype": "text/x-python",
   "name": "python",
   "nbconvert_exporter": "python",
   "pygments_lexer": "ipython3",
   "version": "3.12.4"
  }
 },
 "nbformat": 4,
 "nbformat_minor": 2
}
