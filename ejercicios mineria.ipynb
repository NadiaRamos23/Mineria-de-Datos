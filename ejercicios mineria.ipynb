{
 "cells": [
  {
   "cell_type": "markdown",
   "metadata": {},
   "source": [
    "### REGISTRO DE TEMPERATURAS "
   ]
  },
  {
   "cell_type": "code",
   "execution_count": 9,
   "metadata": {},
   "outputs": [
    {
     "name": "stdout",
     "output_type": "stream",
     "text": [
      "Registro de temperaturas de la semana:\n",
      "Lunes        22\n",
      "Martes       24\n",
      "Miércoles    11\n",
      "Jueves       21\n",
      "Viernes      23\n",
      "Sábado       26\n",
      "Domingo      20\n",
      "dtype: int64\n",
      "\n",
      "La temperatura promedio de la semana es: 21.0°C\n"
     ]
    }
   ],
   "source": [
    "import pandas as pd\n",
    "\n",
    "\n",
    "temperaturas = pd.Series(\n",
    "    [22, 24, 11, 21, 23, 26, 20],  \n",
    "    index=['Lunes', 'Martes', 'Miércoles', 'Jueves', 'Viernes', 'Sábado', 'Domingo']  \n",
    ")\n",
    "\n",
    "\n",
    "print(\"Registro de temperaturas de la semana:\")\n",
    "print(temperaturas)\n",
    "\n",
    "\n",
    "temp_promedio = temperaturas.mean()\n",
    "\n",
    "\n",
    "print(f\"\\nLa temperatura promedio de la semana es: {temp_promedio:.1f}°C\")\n"
   ]
  },
  {
   "cell_type": "markdown",
   "metadata": {},
   "source": [
    "#### INVENTARIO DE PRODUCTOS"
   ]
  },
  {
   "cell_type": "code",
   "execution_count": null,
   "metadata": {},
   "outputs": [
    {
     "name": "stdout",
     "output_type": "stream",
     "text": [
      "Inventario de productos:\n",
      "Manzanas    15\n",
      "Arroz        8\n",
      "Naranjas    12\n",
      "Leche        5\n",
      "Pan         20\n",
      "Huevos      30\n",
      "Queso        7\n",
      "dtype: int64\n",
      " Productos con menos de 10 unidades en stock:\n",
      "Arroz    8\n",
      "Leche    5\n",
      "Queso    7\n",
      "dtype: int64\n"
     ]
    }
   ],
   "source": [
    "import pandas as pd\n",
    "\n",
    "\n",
    "inventario = pd.Series({\n",
    "    'Manzanas': 15,\n",
    "    'Arroz': 8,\n",
    "    'Naranjas': 12,\n",
    "    'Leche': 5,\n",
    "    'Pan': 20,\n",
    "    'Huevos': 30,\n",
    "    'Queso': 7\n",
    "})\n",
    "\n",
    "print( \"Inventario de productos:\")\n",
    "print(inventario)\n",
    "\n",
    "bajo_stock = inventario[inventario < 10]\n",
    "\n",
    "print(\" Productos con menos de 10 unidades en stock:\")\n",
    "print(bajo_stock)\n"
   ]
  },
  {
   "cell_type": "markdown",
   "metadata": {},
   "source": [
    "#### Precios de producto"
   ]
  },
  {
   "cell_type": "code",
   "execution_count": 10,
   "metadata": {},
   "outputs": [
    {
     "name": "stdout",
     "output_type": "stream",
     "text": [
      "Precios originales:\n",
      "sillon        1200\n",
      "television     800\n",
      "reloj          500\n",
      "celular        150\n",
      "zapatos        300\n",
      "dtype: int64\n",
      " Precios con 15% de descuento:\n",
      "sillon        1020.0\n",
      "television     680.0\n",
      "reloj          425.0\n",
      "celular        127.5\n",
      "zapatos        255.0\n",
      "dtype: float64\n"
     ]
    }
   ],
   "source": [
    "import pandas as pd\n",
    "\n",
    "\n",
    "precios = pd.Series({\n",
    "    'sillon': 1200,\n",
    "    'television': 800,\n",
    "    'reloj': 500,\n",
    "    'celular': 150,\n",
    "    'zapatos': 300\n",
    "})\n",
    "\n",
    "\n",
    "print(\"Precios originales:\")\n",
    "print(precios)\n",
    "\n",
    "# Aplicar un descuento del 15%\n",
    "precios_descuento = precios * 0.85  # Multiplicamos por 85% (100% - 15%)\n",
    "\n",
    "# Mostrar los precios con descuento\n",
    "print(\" Precios con 15% de descuento:\")\n",
    "print(precios_descuento)\n"
   ]
  },
  {
   "cell_type": "markdown",
   "metadata": {},
   "source": [
    "#### Calificaciones de estudiantes"
   ]
  },
  {
   "cell_type": "code",
   "execution_count": 13,
   "metadata": {},
   "outputs": [
    {
     "name": "stdout",
     "output_type": "stream",
     "text": [
      "Calificaciones de los estudiantes:\n",
      "Alexa        8\n",
      "Nadia        9\n",
      "Carlos       7\n",
      "Ruben        6\n",
      "Ernesto      8\n",
      "Evelyn       4\n",
      "Antonio     10\n",
      "Paola        8\n",
      "Luis         5\n",
      "Fernanda     0\n",
      "dtype: int64\n",
      " La calificación más alta es 10, obtenida por Antonio .\n",
      "La calificación más baja es 0, obtenida por Fernanda.\n"
     ]
    }
   ],
   "source": [
    "import pandas as pd\n",
    "\n",
    "\n",
    "calificaciones = pd.Series({\n",
    "    'Alexa': 8,\n",
    "    'Nadia': 9,\n",
    "    'Carlos': 7,\n",
    "    'Ruben': 6,\n",
    "    'Ernesto': 8,\n",
    "    'Evelyn': 4,\n",
    "    'Antonio ': 10,\n",
    "    'Paola': 8,\n",
    "    'Luis': 5,\n",
    "    'Fernanda': 0\n",
    "})\n",
    "\n",
    "\n",
    "print(\"Calificaciones de los estudiantes:\")\n",
    "print(calificaciones)\n",
    "\n",
    "\n",
    "max_calificacion = calificaciones.max()\n",
    "estudiante_max = calificaciones.idxmax()\n",
    "\n",
    "\n",
    "min_calificacion = calificaciones.min()\n",
    "estudiante_min = calificaciones.idxmin()\n",
    "\n",
    "\n",
    "print(f\" La calificación más alta es {max_calificacion}, obtenida por {estudiante_max}.\")\n",
    "print(f\"La calificación más baja es {min_calificacion}, obtenida por {estudiante_min}.\")\n"
   ]
  },
  {
   "cell_type": "markdown",
   "metadata": {},
   "source": [
    "#### Registro de ventas:"
   ]
  },
  {
   "cell_type": "code",
   "execution_count": null,
   "metadata": {},
   "outputs": [
    {
     "name": "stdout",
     "output_type": "stream",
     "text": [
      "Ventas diarias de la tienda:\n",
      "Lunes        1500\n",
      "Martes       2200\n",
      "Miércoles    1800\n",
      "Jueves       2500\n",
      "Viernes      3000\n",
      "dtype: int64\n",
      " Total de ventas de la semana: $11000\n",
      "El día con más ventas fue Viernes, con $3000 en ventas.\n"
     ]
    }
   ],
   "source": [
    "import pandas as pd\n",
    "\n",
    "ventas = pd.Series({\n",
    "    'Lunes': 1500,\n",
    "    'Martes': 2200,\n",
    "    'Miércoles': 1800,\n",
    "    'Jueves': 2500,\n",
    "    'Viernes': 3000\n",
    "})\n",
    "\n",
    "\n",
    "print(\"Ventas diarias de la tienda:\")\n",
    "print(ventas)\n",
    "\n",
    "total_ventas = ventas.sum()\n",
    "\n",
    "dia_max_ventas = ventas.idxmax()\n",
    "max_ventas = ventas.max()\n",
    "\n",
    "\n",
    "print(f\" Total de ventas de la semana: ${total_ventas}\")\n",
    "print(f\"El día con más ventas fue {dia_max_ventas}, con ${max_ventas} en ventas.\")\n"
   ]
  },
  {
   "cell_type": "markdown",
   "metadata": {},
   "source": []
  },
  {
   "cell_type": "code",
   "execution_count": 15,
   "metadata": {},
   "outputs": [
    {
     "ename": "ValueError",
     "evalue": "Can only compare identically-labeled Series objects",
     "output_type": "error",
     "traceback": [
      "\u001b[1;31m---------------------------------------------------------------------------\u001b[0m",
      "\u001b[1;31mValueError\u001b[0m                                Traceback (most recent call last)",
      "Cell \u001b[1;32mIn[15], line 22\u001b[0m\n\u001b[0;32m     13\u001b[0m precios_tienda_B \u001b[38;5;241m=\u001b[39m pd\u001b[38;5;241m.\u001b[39mSeries({\n\u001b[0;32m     14\u001b[0m     \u001b[38;5;124m'\u001b[39m\u001b[38;5;124mLaptop\u001b[39m\u001b[38;5;124m'\u001b[39m: \u001b[38;5;241m1150\u001b[39m,\n\u001b[0;32m     15\u001b[0m     \u001b[38;5;124m'\u001b[39m\u001b[38;5;124mTeléfono\u001b[39m\u001b[38;5;124m'\u001b[39m: \u001b[38;5;241m820\u001b[39m,\n\u001b[1;32m   (...)\u001b[0m\n\u001b[0;32m     18\u001b[0m     \u001b[38;5;124m'\u001b[39m\u001b[38;5;124mMonitor\u001b[39m\u001b[38;5;124m'\u001b[39m: \u001b[38;5;241m290\u001b[39m\n\u001b[0;32m     19\u001b[0m })\n\u001b[0;32m     21\u001b[0m \u001b[38;5;66;03m# Comparar los precios y determinar dónde es más barato cada producto\u001b[39;00m\n\u001b[1;32m---> 22\u001b[0m comparacion \u001b[38;5;241m=\u001b[39m \u001b[43mprecios_tienda_A\u001b[49m\u001b[43m \u001b[49m\u001b[38;5;241;43m<\u001b[39;49m\u001b[43m \u001b[49m\u001b[43mprecios_tienda_B\u001b[49m  \u001b[38;5;66;03m# True si en A es más barato\u001b[39;00m\n\u001b[0;32m     24\u001b[0m \u001b[38;5;66;03m# Crear una Serie con el resultado de la comparación\u001b[39;00m\n\u001b[0;32m     25\u001b[0m mejor_tienda \u001b[38;5;241m=\u001b[39m comparacion\u001b[38;5;241m.\u001b[39mmap(\u001b[38;5;28;01mlambda\u001b[39;00m x: \u001b[38;5;124m'\u001b[39m\u001b[38;5;124mTienda A\u001b[39m\u001b[38;5;124m'\u001b[39m \u001b[38;5;28;01mif\u001b[39;00m x \u001b[38;5;28;01melse\u001b[39;00m \u001b[38;5;124m'\u001b[39m\u001b[38;5;124mTienda B\u001b[39m\u001b[38;5;124m'\u001b[39m)\n",
      "File \u001b[1;32mc:\\Users\\Administrador\\AppData\\Local\\Programs\\Python\\Python312\\Lib\\site-packages\\pandas\\core\\ops\\common.py:76\u001b[0m, in \u001b[0;36m_unpack_zerodim_and_defer.<locals>.new_method\u001b[1;34m(self, other)\u001b[0m\n\u001b[0;32m     72\u001b[0m             \u001b[38;5;28;01mreturn\u001b[39;00m \u001b[38;5;28mNotImplemented\u001b[39m\n\u001b[0;32m     74\u001b[0m other \u001b[38;5;241m=\u001b[39m item_from_zerodim(other)\n\u001b[1;32m---> 76\u001b[0m \u001b[38;5;28;01mreturn\u001b[39;00m \u001b[43mmethod\u001b[49m\u001b[43m(\u001b[49m\u001b[38;5;28;43mself\u001b[39;49m\u001b[43m,\u001b[49m\u001b[43m \u001b[49m\u001b[43mother\u001b[49m\u001b[43m)\u001b[49m\n",
      "File \u001b[1;32mc:\\Users\\Administrador\\AppData\\Local\\Programs\\Python\\Python312\\Lib\\site-packages\\pandas\\core\\arraylike.py:48\u001b[0m, in \u001b[0;36mOpsMixin.__lt__\u001b[1;34m(self, other)\u001b[0m\n\u001b[0;32m     46\u001b[0m \u001b[38;5;129m@unpack_zerodim_and_defer\u001b[39m(\u001b[38;5;124m\"\u001b[39m\u001b[38;5;124m__lt__\u001b[39m\u001b[38;5;124m\"\u001b[39m)\n\u001b[0;32m     47\u001b[0m \u001b[38;5;28;01mdef\u001b[39;00m\u001b[38;5;250m \u001b[39m\u001b[38;5;21m__lt__\u001b[39m(\u001b[38;5;28mself\u001b[39m, other):\n\u001b[1;32m---> 48\u001b[0m     \u001b[38;5;28;01mreturn\u001b[39;00m \u001b[38;5;28;43mself\u001b[39;49m\u001b[38;5;241;43m.\u001b[39;49m\u001b[43m_cmp_method\u001b[49m\u001b[43m(\u001b[49m\u001b[43mother\u001b[49m\u001b[43m,\u001b[49m\u001b[43m \u001b[49m\u001b[43moperator\u001b[49m\u001b[38;5;241;43m.\u001b[39;49m\u001b[43mlt\u001b[49m\u001b[43m)\u001b[49m\n",
      "File \u001b[1;32mc:\\Users\\Administrador\\AppData\\Local\\Programs\\Python\\Python312\\Lib\\site-packages\\pandas\\core\\series.py:6114\u001b[0m, in \u001b[0;36mSeries._cmp_method\u001b[1;34m(self, other, op)\u001b[0m\n\u001b[0;32m   6111\u001b[0m res_name \u001b[38;5;241m=\u001b[39m ops\u001b[38;5;241m.\u001b[39mget_op_result_name(\u001b[38;5;28mself\u001b[39m, other)\n\u001b[0;32m   6113\u001b[0m \u001b[38;5;28;01mif\u001b[39;00m \u001b[38;5;28misinstance\u001b[39m(other, Series) \u001b[38;5;129;01mand\u001b[39;00m \u001b[38;5;129;01mnot\u001b[39;00m \u001b[38;5;28mself\u001b[39m\u001b[38;5;241m.\u001b[39m_indexed_same(other):\n\u001b[1;32m-> 6114\u001b[0m     \u001b[38;5;28;01mraise\u001b[39;00m \u001b[38;5;167;01mValueError\u001b[39;00m(\u001b[38;5;124m\"\u001b[39m\u001b[38;5;124mCan only compare identically-labeled Series objects\u001b[39m\u001b[38;5;124m\"\u001b[39m)\n\u001b[0;32m   6116\u001b[0m lvalues \u001b[38;5;241m=\u001b[39m \u001b[38;5;28mself\u001b[39m\u001b[38;5;241m.\u001b[39m_values\n\u001b[0;32m   6117\u001b[0m rvalues \u001b[38;5;241m=\u001b[39m extract_array(other, extract_numpy\u001b[38;5;241m=\u001b[39m\u001b[38;5;28;01mTrue\u001b[39;00m, extract_range\u001b[38;5;241m=\u001b[39m\u001b[38;5;28;01mTrue\u001b[39;00m)\n",
      "\u001b[1;31mValueError\u001b[0m: Can only compare identically-labeled Series objects"
     ]
    }
   ],
   "source": [
    "import pandas as pd\n",
    "\n",
    "\n",
    "precios_tienda_A = pd.Series({\n",
    "    'sillon': 1200,\n",
    "    'television': 800,\n",
    "    'reloj': 500,\n",
    "    'celular': 150,\n",
    "    'zapatos': 300\n",
    "})\n",
    "\n",
    "# Crear una Serie con los precios de productos en la Tienda B\n",
    "precios_tienda_B = pd.Series({\n",
    "    'Laptop': 1150,\n",
    "    'Teléfono': 820,\n",
    "    'Tablet': 480,\n",
    "    'Auriculares': 160,\n",
    "    'Monitor': 290\n",
    "})\n",
    "\n",
    "# Comparar los precios y determinar dónde es más barato cada producto\n",
    "comparacion = precios_tienda_A < precios_tienda_B  # True si en A es más barato\n",
    "\n",
    "# Crear una Serie con el resultado de la comparación\n",
    "mejor_tienda = comparacion.map(lambda x: 'Tienda A' if x else 'Tienda B')\n",
    "\n",
    "# Mostrar precios de ambas tiendas\n",
    "print(\" Precios en Tienda A:\")\n",
    "print(precios_tienda_A)\n",
    "\n",
    "print(\"Precios en Tienda B:\")\n",
    "print(precios_tienda_B)\n",
    "\n",
    "# Mostrar el resultado de la comparación\n",
    "print(\"Tienda con el precio más barato para cada producto:\")\n",
    "print(mejor_tienda)\n"
   ]
  },
  {
   "cell_type": "markdown",
   "metadata": {},
   "source": [
    "#### Suma de series:"
   ]
  },
  {
   "cell_type": "code",
   "execution_count": 17,
   "metadata": {},
   "outputs": [
    {
     "name": "stdout",
     "output_type": "stream",
     "text": [
      "Ingresos diarios:\n",
      "Lunes        5000\n",
      "Martes       7000\n",
      "Miércoles    6500\n",
      "Jueves       7200\n",
      "Viernes      8000\n",
      "dtype: int64\n",
      "Gastos diarios:\n",
      "Lunes        2000\n",
      "Martes       2500\n",
      "Miércoles    2300\n",
      "Jueves       2800\n",
      "Viernes      3000\n",
      "dtype: int64\n",
      "Beneficio diario (Ingresos - Gastos):\n",
      "Lunes        3000\n",
      "Martes       4500\n",
      "Miércoles    4200\n",
      "Jueves       4400\n",
      "Viernes      5000\n",
      "dtype: int64\n"
     ]
    }
   ],
   "source": [
    "import pandas as pd\n",
    "\n",
    "ingresos = pd.Series({\n",
    "    'Lunes': 5000,\n",
    "    'Martes': 7000,\n",
    "    'Miércoles': 6500,\n",
    "    'Jueves': 7200,\n",
    "    'Viernes': 8000\n",
    "})\n",
    "\n",
    "gastos = pd.Series({\n",
    "    'Lunes': 2000,\n",
    "    'Martes': 2500,\n",
    "    'Miércoles': 2300,\n",
    "    'Jueves': 2800,\n",
    "    'Viernes': 3000\n",
    "})\n",
    "\n",
    "\n",
    "beneficio = ingresos - gastos\n",
    "\n",
    "\n",
    "print(\"Ingresos diarios:\")\n",
    "print(ingresos)\n",
    "\n",
    "print(\"Gastos diarios:\")\n",
    "print(gastos)\n",
    "\n",
    "print(\"Beneficio diario (Ingresos - Gastos):\")\n",
    "print(beneficio)\n"
   ]
  },
  {
   "cell_type": "markdown",
   "metadata": {},
   "source": [
    "#### Filtrado de datos"
   ]
  },
  {
   "cell_type": "code",
   "execution_count": 20,
   "metadata": {},
   "outputs": [
    {
     "name": "stdout",
     "output_type": "stream",
     "text": [
      " Edades de las personas:\n",
      "Persona 1     12\n",
      "Persona 2     25\n",
      "Persona 3     17\n",
      "Persona 4     30\n",
      "Persona 5     40\n",
      "Persona 6     15\n",
      "Persona 7     19\n",
      "Persona 8     22\n",
      "Persona 9     14\n",
      "Persona 10    18\n",
      "Persona 11    35\n",
      "Persona 12    50\n",
      "Persona 13    16\n",
      "Persona 14    21\n",
      "Persona 15    28\n",
      "dtype: int64\n",
      " Edades mayores de 18 años:\n",
      "Persona 2     25\n",
      "Persona 4     30\n",
      "Persona 5     40\n",
      "Persona 7     19\n",
      "Persona 8     22\n",
      "Persona 11    35\n",
      "Persona 12    50\n",
      "Persona 14    21\n",
      "Persona 15    28\n",
      "dtype: int64\n"
     ]
    }
   ],
   "source": [
    "import pandas as pd\n",
    "\n",
    "edades = pd.Series({\n",
    "    'Persona 1': 12,\n",
    "    'Persona 2': 25,\n",
    "    'Persona 3': 17,\n",
    "    'Persona 4': 30,\n",
    "    'Persona 5': 40,\n",
    "    'Persona 6': 15,\n",
    "    'Persona 7': 19,\n",
    "    'Persona 8': 22,\n",
    "    'Persona 9': 14,\n",
    "    'Persona 10': 18,\n",
    "    'Persona 11': 35,\n",
    "    'Persona 12': 50,\n",
    "    'Persona 13': 16,\n",
    "    'Persona 14': 21,\n",
    "    'Persona 15': 28\n",
    "})\n",
    "\n",
    "\n",
    "print(\" Edades de las personas:\")\n",
    "print(edades)\n",
    "\n",
    "\n",
    "edades_mayores = edades[edades > 18]\n",
    "\n",
    "print(\" Edades mayores de 18 años:\")\n",
    "print(edades_mayores)\n",
    "\n"
   ]
  },
  {
   "cell_type": "markdown",
   "metadata": {},
   "source": [
    "#### Aplicación de funciones"
   ]
  },
  {
   "cell_type": "code",
   "execution_count": 21,
   "metadata": {},
   "outputs": [
    {
     "name": "stdout",
     "output_type": "stream",
     "text": [
      " Números aleatorios:\n",
      "0    60\n",
      "1    39\n",
      "2    32\n",
      "3    78\n",
      "4    72\n",
      "5    43\n",
      "6    95\n",
      "7    73\n",
      "8    93\n",
      "9    42\n",
      "dtype: int32\n",
      " Números elevados al cuadrado:\n",
      "0    3600\n",
      "1    1521\n",
      "2    1024\n",
      "3    6084\n",
      "4    5184\n",
      "5    1849\n",
      "6    9025\n",
      "7    5329\n",
      "8    8649\n",
      "9    1764\n",
      "dtype: int32\n"
     ]
    }
   ],
   "source": [
    "import pandas as pd\n",
    "import numpy as np\n",
    "\n",
    "\n",
    "numeros = pd.Series(np.random.randint(1, 101, size=10))\n",
    "\n",
    "print(\" Números aleatorios:\")\n",
    "print(numeros)\n",
    "\n",
    "numeros_cuadrados = numeros ** 2\n",
    "\n",
    "\n",
    "print(\" Números elevados al cuadrado:\")\n",
    "print(numeros_cuadrados)\n"
   ]
  },
  {
   "cell_type": "markdown",
   "metadata": {},
   "source": [
    "#### Concatenación de series: "
   ]
  },
  {
   "cell_type": "code",
   "execution_count": null,
   "metadata": {},
   "outputs": [
    {
     "name": "stdout",
     "output_type": "stream",
     "text": [
      "📊 Registro completo de ventas:\n",
      "Día 1     1500\n",
      "Día 2     2200\n",
      "Día 3     1800\n",
      "Día 4     2500\n",
      "Día 5     3000\n",
      "Día 6     2700\n",
      "Día 7     3200\n",
      "Día 8     2900\n",
      "Día 9     3100\n",
      "Día 10    2800\n",
      "dtype: int64\n"
     ]
    }
   ],
   "source": [
    "import pandas as pd\n",
    "\n",
    "\n",
    "ventas_mes1 = pd.Series({\n",
    "    'Día 1': 1500,\n",
    "    'Día 2': 2200,\n",
    "    'Día 3': 1800,\n",
    "    'Día 4': 2500,\n",
    "    'Día 5': 3000\n",
    "})\n",
    "\n",
    "\n",
    "ventas_mes2 = pd.Series({\n",
    "    'Día 6': 2700,\n",
    "    'Día 7': 3200,\n",
    "    'Día 8': 2900,\n",
    "    'Día 9': 3100,\n",
    "    'Día 10': 2800\n",
    "})\n",
    "\n",
    "\n",
    "ventas_totales = pd.concat([ventas_mes1, ventas_mes2])\n",
    "\n",
    "print(\"Registro completo de ventas:\")\n",
    "print(ventas_totales)\n"
   ]
  }
 ],
 "metadata": {
  "kernelspec": {
   "display_name": "Python 3",
   "language": "python",
   "name": "python3"
  },
  "language_info": {
   "codemirror_mode": {
    "name": "ipython",
    "version": 3
   },
   "file_extension": ".py",
   "mimetype": "text/x-python",
   "name": "python",
   "nbconvert_exporter": "python",
   "pygments_lexer": "ipython3",
   "version": "3.12.4"
  }
 },
 "nbformat": 4,
 "nbformat_minor": 2
}
